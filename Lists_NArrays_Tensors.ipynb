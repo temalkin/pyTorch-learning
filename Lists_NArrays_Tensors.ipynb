{
  "nbformat": 4,
  "nbformat_minor": 0,
  "metadata": {
    "colab": {
      "provenance": [],
      "authorship_tag": "ABX9TyMcPn4t4l5vuZ/Xo9nmHQdH",
      "include_colab_link": true
    },
    "kernelspec": {
      "name": "python3",
      "display_name": "Python 3"
    },
    "language_info": {
      "name": "python"
    }
  },
  "cells": [
    {
      "cell_type": "markdown",
      "metadata": {
        "id": "view-in-github",
        "colab_type": "text"
      },
      "source": [
        "<a href=\"https://colab.research.google.com/github/temalkin/pyTorch-learning/blob/main/Lists_NArrays_Tensors.ipynb\" target=\"_parent\"><img src=\"https://colab.research.google.com/assets/colab-badge.svg\" alt=\"Open In Colab\"/></a>"
      ]
    },
    {
      "cell_type": "code",
      "source": [
        "import numpy as np\n",
        "import torch"
      ],
      "metadata": {
        "id": "sICZ40iAUfDD"
      },
      "execution_count": 8,
      "outputs": []
    },
    {
      "cell_type": "markdown",
      "source": [
        "# LISTS"
      ],
      "metadata": {
        "id": "L6_jE9VPULZ-"
      }
    },
    {
      "cell_type": "code",
      "execution_count": 2,
      "metadata": {
        "colab": {
          "base_uri": "https://localhost:8080/"
        },
        "id": "iNnHsdsITxoa",
        "outputId": "9b1924a9-72f3-4a78-b569-0cc6a904fba9"
      },
      "outputs": [
        {
          "output_type": "execute_result",
          "data": {
            "text/plain": [
              "[[1, 2, 3, 4, 5], [6, 7, 8, 9, 10]]"
            ]
          },
          "metadata": {},
          "execution_count": 2
        }
      ],
      "source": [
        "my_list = [[1,2,3,4,5], [6,7,8,9,10]]\n",
        "my_list"
      ]
    },
    {
      "cell_type": "markdown",
      "source": [
        "# NUMPY ARRAYS"
      ],
      "metadata": {
        "id": "EFOSZpauUOnL"
      }
    },
    {
      "cell_type": "code",
      "source": [
        "np1 = np.random.rand(3,4)\n",
        "np1"
      ],
      "metadata": {
        "colab": {
          "base_uri": "https://localhost:8080/"
        },
        "id": "zFyGFveCUYZv",
        "outputId": "b3285826-a7a0-40a6-b303-c53cbae18bbe"
      },
      "execution_count": 6,
      "outputs": [
        {
          "output_type": "execute_result",
          "data": {
            "text/plain": [
              "array([[0.1119968 , 0.04847644, 0.53640513, 0.20215656],\n",
              "       [0.64827912, 0.10026899, 0.15851069, 0.22799591],\n",
              "       [0.43853734, 0.04201261, 0.80250732, 0.94308717]])"
            ]
          },
          "metadata": {},
          "execution_count": 6
        }
      ]
    },
    {
      "cell_type": "code",
      "source": [
        "np1.dtype"
      ],
      "metadata": {
        "colab": {
          "base_uri": "https://localhost:8080/"
        },
        "id": "RPDKHi2iUtbG",
        "outputId": "6d62f496-0ceb-45cf-b5a2-cda4b7387e77"
      },
      "execution_count": 7,
      "outputs": [
        {
          "output_type": "execute_result",
          "data": {
            "text/plain": [
              "dtype('float64')"
            ]
          },
          "metadata": {},
          "execution_count": 7
        }
      ]
    },
    {
      "cell_type": "markdown",
      "source": [
        "# TENSORS"
      ],
      "metadata": {
        "id": "QsKEZ9h-U_QO"
      }
    },
    {
      "cell_type": "code",
      "source": [
        "tensor_2d = torch.randn(3,4)\n",
        "tensor_2d\n",
        "#tensor_2d.dtype"
      ],
      "metadata": {
        "colab": {
          "base_uri": "https://localhost:8080/"
        },
        "id": "arXzW-ZCVaLv",
        "outputId": "3016c11e-c174-4555-d9a0-b21122337882"
      },
      "execution_count": 15,
      "outputs": [
        {
          "output_type": "execute_result",
          "data": {
            "text/plain": [
              "tensor([[ 0.6331, -0.4860,  1.1540, -0.5410],\n",
              "        [ 1.0679,  0.3906,  1.3443,  0.0986],\n",
              "        [-0.6668,  0.0629, -0.7039, -0.3572]])"
            ]
          },
          "metadata": {},
          "execution_count": 15
        }
      ]
    },
    {
      "cell_type": "code",
      "source": [
        "tensor_3d = torch.zeros(2,3,4)\n",
        "tensor_3d"
      ],
      "metadata": {
        "colab": {
          "base_uri": "https://localhost:8080/"
        },
        "id": "Xodn8L9rVbIa",
        "outputId": "7e25d892-f56e-4d24-e30b-a7f21c16015f"
      },
      "execution_count": 12,
      "outputs": [
        {
          "output_type": "execute_result",
          "data": {
            "text/plain": [
              "tensor([[[0., 0., 0., 0.],\n",
              "         [0., 0., 0., 0.],\n",
              "         [0., 0., 0., 0.]],\n",
              "\n",
              "        [[0., 0., 0., 0.],\n",
              "         [0., 0., 0., 0.],\n",
              "         [0., 0., 0., 0.]]])"
            ]
          },
          "metadata": {},
          "execution_count": 12
        }
      ]
    },
    {
      "cell_type": "code",
      "source": [
        "## Create tensor out of numpy array\n",
        "my_tensor = torch.tensor(np1)\n",
        "my_tensor"
      ],
      "metadata": {
        "colab": {
          "base_uri": "https://localhost:8080/"
        },
        "id": "hb65WeFFVzrE",
        "outputId": "57ec632c-8fe5-4db7-b369-183637aef06d"
      },
      "execution_count": 13,
      "outputs": [
        {
          "output_type": "execute_result",
          "data": {
            "text/plain": [
              "tensor([[0.1120, 0.0485, 0.5364, 0.2022],\n",
              "        [0.6483, 0.1003, 0.1585, 0.2280],\n",
              "        [0.4385, 0.0420, 0.8025, 0.9431]], dtype=torch.float64)"
            ]
          },
          "metadata": {},
          "execution_count": 13
        }
      ]
    }
  ]
}